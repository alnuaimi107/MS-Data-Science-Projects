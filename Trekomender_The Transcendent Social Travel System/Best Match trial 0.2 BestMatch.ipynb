{
 "cells": [
  {
   "cell_type": "markdown",
   "metadata": {},
   "source": [
    "## Similarity search for lightweight semantic search options"
   ]
  },
  {
   "cell_type": "markdown",
   "metadata": {},
   "source": [
    "######  We have tried Haystack but the resulta sre not very accurate, so changed to BM25 so thta rather than embedding we can use vectoer search directly from tokens."
   ]
  },
  {
   "cell_type": "markdown",
   "metadata": {},
   "source": [
    "## Bestmatch25 Trials\n",
    "#### https://opensourceconnections.com/blog/2015/10/16/bm25-the-next-generation-of-lucene-relevation/\n",
    "#### http://ethen8181.github.io/machine-learning/search/bm25_intro.html"
   ]
  },
  {
   "cell_type": "code",
   "execution_count": 1,
   "metadata": {},
   "outputs": [
    {
     "data": {
      "text/html": [
       "<div>\n",
       "<style scoped>\n",
       "    .dataframe tbody tr th:only-of-type {\n",
       "        vertical-align: middle;\n",
       "    }\n",
       "\n",
       "    .dataframe tbody tr th {\n",
       "        vertical-align: top;\n",
       "    }\n",
       "\n",
       "    .dataframe thead th {\n",
       "        text-align: right;\n",
       "    }\n",
       "</style>\n",
       "<table border=\"1\" class=\"dataframe\">\n",
       "  <thead>\n",
       "    <tr style=\"text-align: right;\">\n",
       "      <th></th>\n",
       "      <th>city</th>\n",
       "      <th>country</th>\n",
       "      <th>beach</th>\n",
       "      <th>mountain</th>\n",
       "      <th>history</th>\n",
       "      <th>food</th>\n",
       "      <th>city_life</th>\n",
       "      <th>countryside</th>\n",
       "      <th>nightlife</th>\n",
       "      <th>couple_friendly</th>\n",
       "      <th>outdoor</th>\n",
       "      <th>spiritual</th>\n",
       "      <th>sights</th>\n",
       "      <th>desc</th>\n",
       "      <th>Best_time</th>\n",
       "      <th>img</th>\n",
       "      <th>out</th>\n",
       "    </tr>\n",
       "  </thead>\n",
       "  <tbody>\n",
       "    <tr>\n",
       "      <th>0</th>\n",
       "      <td>Paris</td>\n",
       "      <td>France</td>\n",
       "      <td>0</td>\n",
       "      <td>0</td>\n",
       "      <td>1</td>\n",
       "      <td>1</td>\n",
       "      <td>1</td>\n",
       "      <td>0</td>\n",
       "      <td>1</td>\n",
       "      <td>1</td>\n",
       "      <td>0</td>\n",
       "      <td>0</td>\n",
       "      <td>Eiffel Tower,Louvre Museum,Cathdrale notre dam...</td>\n",
       "      <td>History, culture, food and fashion in one pict...</td>\n",
       "      <td>Summer (June to August): Summer is festival se...</td>\n",
       "      <td>https://img.delicious.com.au/DGZCHR1s/del/2018...</td>\n",
       "      <td>Eiffel Tower,Louvre Museum,Cathdrale notre dam...</td>\n",
       "    </tr>\n",
       "    <tr>\n",
       "      <th>1</th>\n",
       "      <td>New york</td>\n",
       "      <td>USA</td>\n",
       "      <td>0</td>\n",
       "      <td>0</td>\n",
       "      <td>0</td>\n",
       "      <td>1</td>\n",
       "      <td>1</td>\n",
       "      <td>0</td>\n",
       "      <td>1</td>\n",
       "      <td>1</td>\n",
       "      <td>0</td>\n",
       "      <td>0</td>\n",
       "      <td>Central Park,The Museum of Modern Art,Statue o...</td>\n",
       "      <td>The tallest buildings, biggest museums, and be...</td>\n",
       "      <td>Spring (April / May) and Fall (September / Oct...</td>\n",
       "      <td>https://img.delicious.com.au/ttEaxwsa/del/2018...</td>\n",
       "      <td>Central Park,The Museum of Modern Art,Statue o...</td>\n",
       "    </tr>\n",
       "    <tr>\n",
       "      <th>2</th>\n",
       "      <td>Rome</td>\n",
       "      <td>Italy</td>\n",
       "      <td>1</td>\n",
       "      <td>0</td>\n",
       "      <td>1</td>\n",
       "      <td>1</td>\n",
       "      <td>1</td>\n",
       "      <td>1</td>\n",
       "      <td>1</td>\n",
       "      <td>1</td>\n",
       "      <td>1</td>\n",
       "      <td>1</td>\n",
       "      <td>Colosseum,Pantheon,Trevi Fountain,St. Peter's ...</td>\n",
       "      <td>The eternal city is a heartland for food and h...</td>\n",
       "      <td>Late fall to early spring (October to April): ...</td>\n",
       "      <td>https://img.delicious.com.au/BTJu9b76/del/2018...</td>\n",
       "      <td>Colosseum,Pantheon,Trevi Fountain,St. Peter's ...</td>\n",
       "    </tr>\n",
       "    <tr>\n",
       "      <th>3</th>\n",
       "      <td>London</td>\n",
       "      <td>UK</td>\n",
       "      <td>1</td>\n",
       "      <td>1</td>\n",
       "      <td>1</td>\n",
       "      <td>1</td>\n",
       "      <td>1</td>\n",
       "      <td>0</td>\n",
       "      <td>1</td>\n",
       "      <td>1</td>\n",
       "      <td>0</td>\n",
       "      <td>0</td>\n",
       "      <td>Tower of London,The National Gallery,Buckingha...</td>\n",
       "      <td>An essential destination for every traveller’s...</td>\n",
       "      <td>Summer (June to August): With average temps ar...</td>\n",
       "      <td>https://img.delicious.com.au/ZOmI5Coz/del/2018...</td>\n",
       "      <td>Tower of London,The National Gallery,Buckingha...</td>\n",
       "    </tr>\n",
       "    <tr>\n",
       "      <th>4</th>\n",
       "      <td>Tokyo</td>\n",
       "      <td>Japan</td>\n",
       "      <td>1</td>\n",
       "      <td>1</td>\n",
       "      <td>1</td>\n",
       "      <td>1</td>\n",
       "      <td>1</td>\n",
       "      <td>1</td>\n",
       "      <td>1</td>\n",
       "      <td>1</td>\n",
       "      <td>1</td>\n",
       "      <td>1</td>\n",
       "      <td>Sensō-ji,Meiji Jingu,Tokyo Skytree,Shinjuku Gy...</td>\n",
       "      <td>Japan's capital with skyscrapers, museums, the...</td>\n",
       "      <td>October to February: Tokyo is a great destinat...</td>\n",
       "      <td>https://img.delicious.com.au/ErfAJ_zb/del/2018...</td>\n",
       "      <td>Sensō-ji,Meiji Jingu,Tokyo Skytree,Shinjuku Gy...</td>\n",
       "    </tr>\n",
       "  </tbody>\n",
       "</table>\n",
       "</div>"
      ],
      "text/plain": [
       "       city country  beach  mountain  history  food  city_life  countryside  \\\n",
       "0     Paris  France      0         0        1     1          1            0   \n",
       "1  New york     USA      0         0        0     1          1            0   \n",
       "2      Rome   Italy      1         0        1     1          1            1   \n",
       "3    London      UK      1         1        1     1          1            0   \n",
       "4     Tokyo   Japan      1         1        1     1          1            1   \n",
       "\n",
       "   nightlife  couple_friendly  outdoor  spiritual  \\\n",
       "0          1                1        0          0   \n",
       "1          1                1        0          0   \n",
       "2          1                1        1          1   \n",
       "3          1                1        0          0   \n",
       "4          1                1        1          1   \n",
       "\n",
       "                                              sights  \\\n",
       "0  Eiffel Tower,Louvre Museum,Cathdrale notre dam...   \n",
       "1  Central Park,The Museum of Modern Art,Statue o...   \n",
       "2  Colosseum,Pantheon,Trevi Fountain,St. Peter's ...   \n",
       "3  Tower of London,The National Gallery,Buckingha...   \n",
       "4  Sensō-ji,Meiji Jingu,Tokyo Skytree,Shinjuku Gy...   \n",
       "\n",
       "                                                desc  \\\n",
       "0  History, culture, food and fashion in one pict...   \n",
       "1  The tallest buildings, biggest museums, and be...   \n",
       "2  The eternal city is a heartland for food and h...   \n",
       "3  An essential destination for every traveller’s...   \n",
       "4  Japan's capital with skyscrapers, museums, the...   \n",
       "\n",
       "                                           Best_time  \\\n",
       "0  Summer (June to August): Summer is festival se...   \n",
       "1  Spring (April / May) and Fall (September / Oct...   \n",
       "2  Late fall to early spring (October to April): ...   \n",
       "3  Summer (June to August): With average temps ar...   \n",
       "4  October to February: Tokyo is a great destinat...   \n",
       "\n",
       "                                                 img  \\\n",
       "0  https://img.delicious.com.au/DGZCHR1s/del/2018...   \n",
       "1  https://img.delicious.com.au/ttEaxwsa/del/2018...   \n",
       "2  https://img.delicious.com.au/BTJu9b76/del/2018...   \n",
       "3  https://img.delicious.com.au/ZOmI5Coz/del/2018...   \n",
       "4  https://img.delicious.com.au/ErfAJ_zb/del/2018...   \n",
       "\n",
       "                                                 out  \n",
       "0  Eiffel Tower,Louvre Museum,Cathdrale notre dam...  \n",
       "1  Central Park,The Museum of Modern Art,Statue o...  \n",
       "2  Colosseum,Pantheon,Trevi Fountain,St. Peter's ...  \n",
       "3  Tower of London,The National Gallery,Buckingha...  \n",
       "4  Sensō-ji,Meiji Jingu,Tokyo Skytree,Shinjuku Gy...  "
      ]
     },
     "execution_count": 1,
     "metadata": {},
     "output_type": "execute_result"
    }
   ],
   "source": [
    "import pandas as pd\n",
    "\n",
    "df = pd.read_csv('City_data1.csv')\n",
    "df['out'] = df['sights']+df['desc']\n",
    "df.head()"
   ]
  },
  {
   "cell_type": "code",
   "execution_count": 9,
   "metadata": {},
   "outputs": [],
   "source": [
    "# !pip install rank_bm25\n",
    "# !python -m spacy download en_core_web_sm\n",
    "from rank_bm25 import BM25Okapi\n",
    "import tqdm\n",
    "import spacy\n",
    "from rank_bm25 import BM25Okapi\n",
    "from tqdm import tqdm\n"
   ]
  },
  {
   "cell_type": "code",
   "execution_count": 16,
   "metadata": {},
   "outputs": [],
   "source": [
    "# !python -m spacy download en_core_web_sm\n",
    "# nlp = spacy.load(\"en_core_web_sm\")\n",
    "import en_core_web_sm\n",
    "# nlp = spacy.load('en_core_web_sm')\n",
    "nlp = en_core_web_sm.load()"
   ]
  },
  {
   "cell_type": "code",
   "execution_count": 17,
   "metadata": {},
   "outputs": [
    {
     "name": "stderr",
     "output_type": "stream",
     "text": [
      "100it [00:00, 574.20it/s]\n"
     ]
    }
   ],
   "source": [
    "text_list = df.desc.str.lower().values\n",
    "tok_text=[] # for our tokenised corpus\n",
    "#Tokenising using SpaCy:\n",
    "for doc in tqdm(nlp.pipe(text_list, disable=[\"tagger\", \"parser\",\"ner\"])):\n",
    "\n",
    "    tok = [t.text for t in doc if t.is_alpha]\n",
    "    tok_text.append(tok)"
   ]
  },
  {
   "cell_type": "code",
   "execution_count": 41,
   "metadata": {},
   "outputs": [],
   "source": [
    "bm25 = BM25Okapi(tok_text)\n",
    "def sim_search(query):\n",
    "    tokenized_query = query.lower().split(\" \")\n",
    "    import time\n",
    "    t0 = time.time()\n",
    "    results = bm25.get_top_n(tokenized_query, df.desc.values, n=6)\n",
    "    t1 = time.time()\n",
    "    for i in results:\n",
    "        print(df[df['desc']==i]['city'].iloc[0])\n",
    "        print(i)"
   ]
  },
  {
   "cell_type": "code",
   "execution_count": 42,
   "metadata": {},
   "outputs": [
    {
     "name": "stdout",
     "output_type": "stream",
     "text": [
      "Agra\n",
      "See the Taj Mahal up-close in Agra.North Indian city with Mughal Empire landmarks like the Taj Mahal mausoleum & red-walled Agra Fort.Where better to go for a romantic vacation than to the great testament of love, the Taj Mahal? Built by the grieving Mughal Emperor Shah Jahan in memory of his late wife Mumtaz Mahal, the Taj Mahal’s unrivaled beauty explains why it’s regarded as one of the eight wonders of the world. A visit to India wouldn’t be complete without it. Other must-experience destinations in Agra are two other UNESCO World Heritage Sites, the sandstone Red Fort and Fatehpur Sikri.\n",
      "Seattle\n",
      "There’s more to be experienced than coffee and grunge in this ever-evolving city.In Seattle you simply can’t skip the Central Public Library – a modern architectural marvel of glass grids, unusual shapes, and a “book spiral” that climbs four stories. Stroll over to Pike Place Market to visit the original Starbucks and play catch with a fishmonger. In the heart of the city lies Chihuly Garden and Glass, which will dazzle you with its colorful and delicate works. Glide to the top of the Space Needle for panoramic views of the surrounding mountain ranges and Puget Sound.City of coffee lovers.\n",
      "Rio de Janeiro\n",
      "Visit pristine beaches and iconic monuments in this part of the world.Brazilian city, home to Copacabana Beach, Sugarloaf Mountain, Carnaval & Christ the Redeemer statue.An urban metropolis with the back-tempo of a samba sway.With its plentiful beaches, dramatic mountains, and backdrop of samba and bossa nova rhythms, it's easy to fall in love with Rio de Janeiro. Made famous in song, Ipanema Beach is still the place to stroll, sunbathe, and be seen. The largest Art Deco statue in the world, Christ the Redeemer, beckons visitors to Corcovado Mountain. And if you're coming for Carnaval, Rio’s annual celebrations are bacchanalian extravaganzas of feasting, music, dance, and costumed revelry.\n",
      "Buenos Aires\n",
      "A lively city where it seems anything could happen.Argentina capital with European-style landmarks Casa Rosada & Teatro Colón, plus MALBA art museum.A cosmopolitan city that dazzles with architecture, dance, and up-all-night urban life.The birthplace of tango is, like the dance itself, captivating, seductive and bustling with electric energy. Atmospheric old neighborhoods are rife with romantic restaurants and thumping nightlife, and Buenos Aires' European heritage is evident in its architecture, boulevards and parks. Cafe Tortoni, the city's oldest bar, will transport you back to 1858, and the spectacular Teatro Colon impresses just as it did in 1908. Latin America's shopping capital offers the promise of premium retail therapy along its grand, wide boulevards.\n",
      "Bohemia\n",
      "Fall in love with this romantic destination.Czech capital known for its medieval old town, sprawling Prague Castle & iconic Charles Bridge.The bohemian allure and fairytale features of Prague make it a perfect destination for culture vultures who want to immerse themselves in history, art, music, and architecture. You could devote an entire day to exploring Prazsky hrad (Prague Castle), then refuel over a hearty dinner at a classic Czech tavern. Spend some time wandering Old Town Square before heading over to the Astronomical Clock as it performs a mechinical promenade on the hour. Prague’s best bars are often historic pubs where you can spend the better part of a night tipping back central Europe's top-shelf beers.\n",
      "Bruges\n",
      "There really can’t be many cities as postcard-ready as this canal city.Medieval city known for its 13th-century belfry, canals & handmade lace, plus Zeebrugge port.What could be more romantic and inspiring than a place that looks like a backdrop for a fairy tale? The medieval overtones of Bruges’ cobblestone streets lead to countless historical, architectural and artistic wonders. Marvel at ornate houses lining intricate canals, and understand why this is a favorite destination for all types of travelers. The whole city emanates an appreciation of the past, a love of the present, and enthusiasm for the future. Don’t miss Hof Bladelin, Groeninge Museum, Church of Our Lady, and Belfry and Market Halls.\n"
     ]
    }
   ],
   "source": [
    "query4 = \"nightlife and party with friends\"\n",
    "query2 = \"outdoor activities, snowy mountain biking and guys stuff\"\n",
    "query = \"romantic place to visit with my wife\"\n",
    "query5 = \"i want to go to sunny, beach and crowd vibe. something like hollywood\"\n",
    "query1=\"temple mosque and spiritual place\"\n",
    "sim_search(query)"
   ]
  },
  {
   "cell_type": "markdown",
   "metadata": {},
   "source": [
    "#### Better result than haystack\n",
    "##### final model to be used in sim_search"
   ]
  },
  {
   "cell_type": "code",
   "execution_count": null,
   "metadata": {},
   "outputs": [],
   "source": []
  }
 ],
 "metadata": {
  "kernelspec": {
   "display_name": "Python 3",
   "language": "python",
   "name": "python3"
  },
  "language_info": {
   "codemirror_mode": {
    "name": "ipython",
    "version": 3
   },
   "file_extension": ".py",
   "mimetype": "text/x-python",
   "name": "python",
   "nbconvert_exporter": "python",
   "pygments_lexer": "ipython3",
   "version": "3.8.5"
  }
 },
 "nbformat": 4,
 "nbformat_minor": 4
}
